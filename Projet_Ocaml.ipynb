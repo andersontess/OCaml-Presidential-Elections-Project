{
 "cells": [
  {
   "cell_type": "markdown",
   "id": "a68e5334",
   "metadata": {},
   "source": [
    "# OCaml Project INF231: How to vote ?"
   ]
  },
  {
   "cell_type": "markdown",
   "id": "6acde17c",
   "metadata": {},
   "source": [
    "## 2. Scrutin uninominal "
   ]
  },
  {
   "cell_type": "markdown",
   "id": "dce73fae",
   "metadata": {},
   "source": [
    "### Question 1"
   ]
  },
  {
   "cell_type": "code",
   "execution_count": 12,
   "id": "3bc91e95",
   "metadata": {
    "vscode": {
     "languageId": "ocaml"
    }
   },
   "outputs": [
    {
     "data": {
      "text/plain": [
       "type candidat = string\n"
      ]
     },
     "execution_count": 12,
     "metadata": {},
     "output_type": "execute_result"
    },
    {
     "data": {
      "text/plain": [
       "type bulletin = string\n"
      ]
     },
     "execution_count": 12,
     "metadata": {},
     "output_type": "execute_result"
    },
    {
     "data": {
      "text/plain": [
       "type urne = string list\n"
      ]
     },
     "execution_count": 12,
     "metadata": {},
     "output_type": "execute_result"
    },
    {
     "data": {
      "text/plain": [
       "type score = int\n"
      ]
     },
     "execution_count": 12,
     "metadata": {},
     "output_type": "execute_result"
    },
    {
     "data": {
      "text/plain": [
       "type panel = string list\n"
      ]
     },
     "execution_count": 12,
     "metadata": {},
     "output_type": "execute_result"
    }
   ],
   "source": [
    "type candidat = string ;;\n",
    "type bulletin = string ;;\n",
    "type urne = string list ;;\n",
    "type score = int (* Between 0 and 16*) ;;\n",
    "type panel = string list ;;"
   ]
  },
  {
   "cell_type": "markdown",
   "id": "5c25e625",
   "metadata": {},
   "source": [
    "### Question 2"
   ]
  },
  {
   "cell_type": "code",
   "execution_count": 13,
   "id": "d7fdbea0",
   "metadata": {
    "vscode": {
     "languageId": "ocaml"
    }
   },
   "outputs": [
    {
     "data": {
      "text/plain": [
       "val compte : candidat -> urne -> score = <fun>\n"
      ]
     },
     "execution_count": 13,
     "metadata": {},
     "output_type": "execute_result"
    },
    {
     "data": {
      "text/plain": [
       "val lc1 : string list = [\"Eric\"; \"Kyle\"; \"Stan\"]\n"
      ]
     },
     "execution_count": 13,
     "metadata": {},
     "output_type": "execute_result"
    },
    {
     "data": {
      "text/plain": [
       "val u1 : string list =\n",
       "  [\"Eric\"; \"Kyle\"; \"Stan\"; \"Kyle\"; \"Kyle\"; \"Stan\"; \"Eric\"; \"Eric\"; \"Kyle\";\n",
       "   \"Eric\"; \"Stan\"; \"Eric\"; \"Eric\"; \"Eric\"; \"Stan\"; \"Stan\"]\n"
      ]
     },
     "execution_count": 13,
     "metadata": {},
     "output_type": "execute_result"
    },
    {
     "data": {
      "text/plain": [
       "- : score = 7\n"
      ]
     },
     "execution_count": 13,
     "metadata": {},
     "output_type": "execute_result"
    }
   ],
   "source": [
    "let rec compte (c: candidat) (u: urne ) : score =\n",
    "    match u with\n",
    "        | [] -> 0\n",
    "        | a::remainder -> \n",
    "            if a = c then 1 + compte c remainder \n",
    "            else compte c remainder\n",
    "\n",
    "(*TEST DE FONCTION AVEC JEU D'ESSAIS*)\n",
    "\n",
    "let lc1 = [\"Eric\";\"Kyle\";\"Stan\"]\n",
    "let u1 = [\"Eric\";\"Kyle\";\"Stan\";\"Kyle\";\"Kyle\";\"Stan\";\"Eric\";\"Eric\";\"Kyle\";\"Eric\";\"Stan\";\"Eric\";\n",
    "\"Eric\";\"Eric\";\"Stan\";\"Stan\"];;\n",
    "\n",
    "compte \"Eric\" u1 ;;"
   ]
  },
  {
   "cell_type": "markdown",
   "id": "e4fae691",
   "metadata": {},
   "source": [
    "### Question 3"
   ]
  },
  {
   "cell_type": "code",
   "execution_count": 14,
   "id": "ece044bc",
   "metadata": {
    "vscode": {
     "languageId": "ocaml"
    }
   },
   "outputs": [
    {
     "data": {
      "text/plain": [
       "type resultat = (candidat * score) list\n"
      ]
     },
     "execution_count": 14,
     "metadata": {},
     "output_type": "execute_result"
    },
    {
     "data": {
      "text/plain": [
       "val depouiller : panel -> urne -> resultat = <fun>\n"
      ]
     },
     "execution_count": 14,
     "metadata": {},
     "output_type": "execute_result"
    },
    {
     "data": {
      "text/plain": [
       "- : resultat = [(\"Eric\", 7); (\"Kyle\", 4); (\"Stan\", 5)]\n"
      ]
     },
     "execution_count": 14,
     "metadata": {},
     "output_type": "execute_result"
    }
   ],
   "source": [
    "type resultat = (candidat * score) list ;;\n",
    "\n",
    "let rec depouiller (lc: panel) (u : urne) : resultat =\n",
    "    match lc with\n",
    "        | [] -> []\n",
    "        | a::remainder ->\n",
    "            let c = compte a u in\n",
    "                [(a,c)] @ (depouiller remainder u);;\n",
    "                \n",
    "(*TEST DE FONCTION AVEC JEU D'ESSAIS*)\n",
    "\n",
    "depouiller lc1 u1 ;;\n",
    "\n",
    "    "
   ]
  },
  {
   "cell_type": "markdown",
   "id": "e4214ee0",
   "metadata": {},
   "source": [
    "### Question 4"
   ]
  },
  {
   "cell_type": "code",
   "execution_count": 15,
   "id": "842bfa75",
   "metadata": {
    "vscode": {
     "languageId": "ocaml"
    }
   },
   "outputs": [
    {
     "data": {
      "text/plain": [
       "val union : resultat -> resultat -> resultat = <fun>\n"
      ]
     },
     "execution_count": 15,
     "metadata": {},
     "output_type": "execute_result"
    },
    {
     "data": {
      "text/plain": [
       "val u2 : string list =\n",
       "  [\"Stan\"; \"Eric\"; \"Eric\"; \"Kyle\"; \"Stan\"; \"Stan\"; \"Eric\"; \"Kyle\"]\n"
      ]
     },
     "execution_count": 15,
     "metadata": {},
     "output_type": "execute_result"
    },
    {
     "data": {
      "text/plain": [
       "val r1 : resultat = [(\"Eric\", 7); (\"Kyle\", 4); (\"Stan\", 5)]\n"
      ]
     },
     "execution_count": 15,
     "metadata": {},
     "output_type": "execute_result"
    },
    {
     "data": {
      "text/plain": [
       "val r2 : resultat = [(\"Eric\", 3); (\"Kyle\", 2); (\"Stan\", 3)]\n"
      ]
     },
     "execution_count": 15,
     "metadata": {},
     "output_type": "execute_result"
    },
    {
     "data": {
      "text/plain": [
       "- : resultat = [(\"Eric\", 10); (\"Kyle\", 6); (\"Stan\", 8)]\n"
      ]
     },
     "execution_count": 15,
     "metadata": {},
     "output_type": "execute_result"
    }
   ],
   "source": [
    "let rec union (r1: resultat) (r2: resultat) : resultat =\n",
    "    match r1 with\n",
    "    | [] -> r2\n",
    "    | (c1,s1)::t1 ->\n",
    "        match r2 with\n",
    "        | [] -> r1\n",
    "        | (c2,s2)::t2 ->\n",
    "            if c1 = c2 then\n",
    "                (c1, s1 + s2) :: union t1 t2\n",
    "            else if c1 < c2 then\n",
    "                (c1, s1) :: union t1 r2\n",
    "            else\n",
    "                (c2, s2) :: union r1 t2;;\n",
    "\n",
    "(*TEST DE FONCTION AVEC JEU D'ESSAIS*)\n",
    "\n",
    "let u2 = [\"Stan\"; \"Eric\"; \"Eric\";\"Kyle\" ; \"Stan\" ; \"Stan\" ; \"Eric\" ; \"Kyle\"];;\n",
    "\n",
    "let r1 = depouiller lc1 u1 ;;\n",
    "let r2 = depouiller lc1 u2 ;; \n",
    "\n",
    "union r1 r2 ;;"
   ]
  },
  {
   "cell_type": "markdown",
   "id": "88b65f7d",
   "metadata": {},
   "source": [
    "### Question 5"
   ]
  },
  {
   "cell_type": "code",
   "execution_count": 16,
   "id": "cd2b8f33",
   "metadata": {
    "vscode": {
     "languageId": "ocaml"
    }
   },
   "outputs": [
    {
     "data": {
      "text/plain": [
       "val max_depouille : resultat -> candidat * score = <fun>\n"
      ]
     },
     "execution_count": 16,
     "metadata": {},
     "output_type": "execute_result"
    },
    {
     "data": {
      "text/plain": [
       "- : candidat * score = (\"Eric\", 7)\n"
      ]
     },
     "execution_count": 16,
     "metadata": {},
     "output_type": "execute_result"
    }
   ],
   "source": [
    "let rec max_depouille (l : resultat) : candidat * score =\n",
    "  match l with\n",
    "  | [] -> failwith \"Empty list\"\n",
    "  | [(c,s)] -> (c,s)\n",
    "  | (c1,s1)::(c2,s2)::remainder ->\n",
    "      if s1 >= s2 then max_depouille ((c1,s1)::remainder)\n",
    "      else max_depouille ((c2,s2)::remainder) ;;\n",
    "\n",
    "(*TEST DE FONCTION AVEC JEU D'ESSAIS*)\n",
    "\n",
    "max_depouille r1 ;;\n",
    "\n",
    "         "
   ]
  },
  {
   "cell_type": "markdown",
   "id": "d1298942",
   "metadata": {},
   "source": [
    "### Question 6"
   ]
  },
  {
   "cell_type": "code",
   "execution_count": 17,
   "id": "8953965a",
   "metadata": {
    "vscode": {
     "languageId": "ocaml"
    }
   },
   "outputs": [
    {
     "data": {
      "text/plain": [
       "val vainqueur_scrutin_uninominal : urne -> panel -> candidat = <fun>\n"
      ]
     },
     "execution_count": 17,
     "metadata": {},
     "output_type": "execute_result"
    },
    {
     "data": {
      "text/plain": [
       "- : candidat = \"Eric\"\n"
      ]
     },
     "execution_count": 17,
     "metadata": {},
     "output_type": "execute_result"
    }
   ],
   "source": [
    "let vainqueur_scrutin_uninominal (u : urne) (lc : panel) : candidat = \n",
    "    let r1 = depouiller lc u in \n",
    "        let (c, s) = max_depouille r1 in\n",
    "            c ;;\n",
    "\n",
    "(*TEST DE FONCTION AVEC JEU D'ESSAIS*)\n",
    "            \n",
    "vainqueur_scrutin_uninominal u1 lc1 ;;"
   ]
  },
  {
   "cell_type": "markdown",
   "id": "e618dfde",
   "metadata": {},
   "source": [
    "### Question 7"
   ]
  },
  {
   "cell_type": "code",
   "execution_count": 18,
   "id": "65a9e22d",
   "metadata": {
    "vscode": {
     "languageId": "ocaml"
    }
   },
   "outputs": [
    {
     "data": {
      "text/plain": [
       "val suppr_elem : 'a list -> 'a -> 'a list = <fun>\n"
      ]
     },
     "execution_count": 18,
     "metadata": {},
     "output_type": "execute_result"
    },
    {
     "data": {
      "text/plain": [
       "val deux_premiers : urne -> panel -> (candidat * score) * (candidat * score) =\n",
       "  <fun>\n"
      ]
     },
     "execution_count": 18,
     "metadata": {},
     "output_type": "execute_result"
    },
    {
     "data": {
      "text/plain": [
       "- : (candidat * score) * (candidat * score) = ((\"Eric\", 7), (\"Stan\", 5))\n"
      ]
     },
     "execution_count": 18,
     "metadata": {},
     "output_type": "execute_result"
    }
   ],
   "source": [
    "let rec suppr_elem (l : 'a list) (e : 'a) : 'a list =\n",
    "    match l with \n",
    "        | [] -> []\n",
    "        | a::remainder -> if a = e then remainder else a::(suppr_elem remainder e) ;;\n",
    "\n",
    "                    \n",
    "let deux_premiers (u: urne) (lc: panel) : (candidat * score) * (candidat * score) =\n",
    "  let r = depouiller lc u in\n",
    "      let (c1, s1) = max_depouille r in\n",
    "          let r' = depouiller (suppr_elem lc c1) u in\n",
    "              let (c2, s2) = max_depouille r' in\n",
    "                  ((c1, s1), (c2, s2)) ;;\n",
    "\n",
    "(*TEST*)\n",
    "\n",
    "deux_premiers u1 lc1 ;;\n",
    "    "
   ]
  },
  {
   "cell_type": "markdown",
   "id": "62726bab",
   "metadata": {},
   "source": [
    "### Question 8"
   ]
  },
  {
   "cell_type": "code",
   "execution_count": 39,
   "id": "6c1f488f",
   "metadata": {
    "vscode": {
     "languageId": "ocaml"
    }
   },
   "outputs": [
    {
     "data": {
      "text/plain": [
       "val lc3 : string list = [\"Eric\"; \"Kyle\"; \"Stan\"; \"Keny\"]\n"
      ]
     },
     "execution_count": 39,
     "metadata": {},
     "output_type": "execute_result"
    },
    {
     "data": {
      "text/plain": [
       "val u3 : string list =\n",
       "  [\"Keny\"; \"Kyle\"; \"Keny\"; \"Kyle\"; \"Kyle\"; \"Keny\"; \"Eric\"; \"Eric\"; \"Kyle\";\n",
       "   \"Eric\"; \"Stan\"; \"Eric\"; \"Eric\"; \"Eric\"; \"Stan\"; \"Stan\"]\n"
      ]
     },
     "execution_count": 39,
     "metadata": {},
     "output_type": "execute_result"
    },
    {
     "data": {
      "text/plain": [
       "- : (candidat * score) * (candidat * score) = ((\"Eric\", 6), (\"Kyle\", 4))\n"
      ]
     },
     "execution_count": 39,
     "metadata": {},
     "output_type": "execute_result"
    },
    {
     "data": {
      "text/plain": [
       "- : resultat = [(\"Eric\", 6); (\"Kyle\", 4); (\"Stan\", 3); (\"Keny\", 3)]\n"
      ]
     },
     "execution_count": 39,
     "metadata": {},
     "output_type": "execute_result"
    }
   ],
   "source": [
    "let lc3 = [\"Eric\";\"Kyle\";\"Stan\";\"Keny\"];;\n",
    "let u3 = [\"Keny\";\"Kyle\";\"Keny\";\"Kyle\";\"Kyle\";\"Keny\";\"Eric\";\"Eric\";\"Kyle\";\"Eric\";\"Stan\";\"Eric\";\n",
    "\"Eric\";\"Eric\";\"Stan\";\"Stan\"];;\n",
    "\n",
    "(*Afin de mieux analyser le paradoxe d'Arrox, un test avec un jeu d'essais:*)\n",
    "\n",
    "deux_premiers u3 lc3 ;;\n",
    "depouiller lc3 u3 ;;"
   ]
  },
  {
   "attachments": {},
   "cell_type": "markdown",
   "id": "c6172790",
   "metadata": {},
   "source": [
    "Situations similaires du paradoxe d'Arrow:\n",
    "\n",
    "Avant que Keny se présente à l'éléction, Stan était passé au second tour avec 5 voix, devant Kyle. Sauf qu'à cause de Keny, les votes ont été départagés et donc Kyle est passé au second tour. On peut faire le lien avec les éléctions présidentielles de 2017. En effet, sans la candidature de Benoit Hamon (Parti Socialiste), Jean-Luc Mélenchon (France Insoumise) pouvait arriver au second tour.\n",
    "On peut également faire le lien avec les éléctions présidentielles de 2022, car il y a eu de nombreux candidats de partis politiques de gauche\n",
    "qui se sont présentés, induisant la dispersion du vote, et donc la non représentation du parti de gauche au second tour, car cette dispersion a fait passé le parti de Macron (Centre) et le parti de Le Pen (droite)."
   ]
  },
  {
   "cell_type": "markdown",
   "id": "8ef1dd6f",
   "metadata": {},
   "source": [
    "### Question 9"
   ]
  },
  {
   "cell_type": "markdown",
   "id": "f8adc9e8",
   "metadata": {},
   "source": [
    "La source du problème dans le scrutin uninominal est dans la division au sein des partis par la candidature de nombreux candidats qui divisent donc les partis politiques en plusieurs camps. "
   ]
  },
  {
   "cell_type": "markdown",
   "id": "370235eb",
   "metadata": {},
   "source": [
    "## 3. Jugement majoritaire"
   ]
  },
  {
   "cell_type": "markdown",
   "id": "cedf49ed",
   "metadata": {},
   "source": [
    "### Question 10"
   ]
  },
  {
   "cell_type": "markdown",
   "id": "6c46a6b9",
   "metadata": {},
   "source": [
    "Dans le cas d'une élection avec 12 candidats, chaque électeur peut donner une mention à chaque candidat parmi les 6 mentions possibles. Par conséquent, chaque électeur a 6 choix possibles pour chaque candidat, soit un total de 6^12 = 2 176 782 336 bulletins différents possibles.\n",
    "\n",
    "En comparaison, dans un scrutin uninominal (où chaque électeur ne vote que pour un seul candidat), il n'y a que 13 possibilités (12 candidats plus la possibilité de voter blanc ou nul).\n",
    "\n",
    "Le jugement majoritaire offre donc beaucoup plus de choix aux électeurs que le scrutin uninominal. Cependant, cela peut rendre le dépouillement plus complexe et nécessiter plus de ressources pour effectuer le comptage des voix."
   ]
  },
  {
   "cell_type": "markdown",
   "id": "679dfc6c",
   "metadata": {},
   "source": [
    "### Question 11"
   ]
  },
  {
   "cell_type": "code",
   "execution_count": 20,
   "id": "4d34744a",
   "metadata": {
    "vscode": {
     "languageId": "ocaml"
    }
   },
   "outputs": [
    {
     "data": {
      "text/plain": [
       "type mention =\n",
       "    Arejeter\n",
       "  | Insuffisant\n",
       "  | Passable\n",
       "  | Assezbien\n",
       "  | Bien\n",
       "  | Tresbien\n"
      ]
     },
     "execution_count": 20,
     "metadata": {},
     "output_type": "execute_result"
    },
    {
     "data": {
      "text/plain": [
       "type bulletin_jm = mention list\n"
      ]
     },
     "execution_count": 20,
     "metadata": {},
     "output_type": "execute_result"
    },
    {
     "data": {
      "text/plain": [
       "type urne_jm = bulletin_jm list\n"
      ]
     },
     "execution_count": 20,
     "metadata": {},
     "output_type": "execute_result"
    },
    {
     "data": {
      "text/plain": [
       "type nombre =\n",
       "    Un\n",
       "  | Deux\n",
       "  | Trois\n",
       "  | Quatre\n",
       "  | Cinq\n",
       "  | Six\n",
       "  | Sept\n",
       "  | Huit\n",
       "  | Neuf\n",
       "  | Dix\n",
       "  | Onze\n",
       "  | Douze\n"
      ]
     },
     "execution_count": 20,
     "metadata": {},
     "output_type": "execute_result"
    }
   ],
   "source": [
    "(* Defining types *)\n",
    "type mention = Arejeter | Insuffisant | Passable | Assezbien | Bien | Tresbien ;;\n",
    "type bulletin_jm = mention list ;;\n",
    "type urne_jm = bulletin_jm list ;;\n",
    "type nombre = Un | Deux | Trois | Quatre | Cinq | Six | Sept | Huit | Neuf | Dix | Onze | Douze ;;"
   ]
  },
  {
   "cell_type": "code",
   "execution_count": 21,
   "id": "90cbe65e",
   "metadata": {
    "vscode": {
     "languageId": "ocaml"
    }
   },
   "outputs": [
    {
     "data": {
      "text/plain": [
       "val u : mention list list =\n",
       "  [[Tresbien; Assezbien; Arejeter; Passable];\n",
       "   [Assezbien; Assezbien; Arejeter; Tresbien];\n",
       "   [Tresbien; Arejeter; Arejeter; Tresbien]]\n"
      ]
     },
     "execution_count": 21,
     "metadata": {},
     "output_type": "execute_result"
    }
   ],
   "source": [
    "let u = [[Tresbien; Assezbien; Arejeter; Passable]; (* Premier bulletin *)\n",
    "[Assezbien; Assezbien; Arejeter; Tresbien]; (* Second bulletin *)\n",
    "[Tresbien; Arejeter; Arejeter; Tresbien]] (* Troisieme bulletin *)\n"
   ]
  },
  {
   "cell_type": "markdown",
   "id": "0c8782f1",
   "metadata": {},
   "source": [
    "### Question 12"
   ]
  },
  {
   "cell_type": "code",
   "execution_count": 22,
   "id": "57c2ff50",
   "metadata": {
    "vscode": {
     "languageId": "ocaml"
    }
   },
   "outputs": [
    {
     "data": {
      "text/plain": [
       "val depouiller_jm : urne_jm -> mention list list = <fun>\n"
      ]
     },
     "execution_count": 22,
     "metadata": {},
     "output_type": "execute_result"
    },
    {
     "data": {
      "text/plain": [
       "val ms : mention list list =\n",
       "  [[Tresbien; Assezbien; Tresbien]; [Assezbien; Assezbien; Arejeter];\n",
       "   [Arejeter; Arejeter; Arejeter]; [Passable; Tresbien; Tresbien]]\n"
      ]
     },
     "execution_count": 22,
     "metadata": {},
     "output_type": "execute_result"
    }
   ],
   "source": [
    "let rec depouiller_jm (u:urne_jm) : mention list list = \n",
    "    match u with\n",
    "        |[] -> []\n",
    "        |[]::lp -> []\n",
    "        |lp -> let lh = List.fold_right (fun x acc -> (List.hd x)::acc) lp [] in\n",
    "                    let lt = List.fold_right (fun x acc -> (List.tl x)::acc) lp [] in \n",
    "                        lh::(depouiller_jm lt) ;;\n",
    "                        \n",
    "let ms = depouiller_jm u  ;;"
   ]
  },
  {
   "cell_type": "markdown",
   "id": "d1701a71",
   "metadata": {},
   "source": [
    "### Question 13"
   ]
  },
  {
   "cell_type": "code",
   "execution_count": 23,
   "id": "5ac1f734",
   "metadata": {
    "vscode": {
     "languageId": "ocaml"
    }
   },
   "outputs": [
    {
     "data": {
      "text/plain": [
       "val tri : 'a list -> 'a list = <fun>\n"
      ]
     },
     "execution_count": 23,
     "metadata": {},
     "output_type": "execute_result"
    },
    {
     "data": {
      "text/plain": [
       "val tri_mentions : urne_jm -> bulletin_jm list = <fun>\n"
      ]
     },
     "execution_count": 23,
     "metadata": {},
     "output_type": "execute_result"
    },
    {
     "data": {
      "text/plain": [
       "val ms_triee : bulletin_jm list =\n",
       "  [[Assezbien; Tresbien; Tresbien]; [Arejeter; Assezbien; Assezbien];\n",
       "   [Arejeter; Arejeter; Arejeter]; [Passable; Tresbien; Tresbien]]\n"
      ]
     },
     "execution_count": 23,
     "metadata": {},
     "output_type": "execute_result"
    }
   ],
   "source": [
    "let tri (l: 'a list) : 'a list =\n",
    "    List.sort compare l ;;\n",
    "\n",
    "let tri_mentions (u: urne_jm) : bulletin_jm list =\n",
    "  List.map tri u ;;\n",
    "\n",
    "let ms_triee = tri_mentions ms ;;\n"
   ]
  },
  {
   "cell_type": "markdown",
   "id": "25a6d386",
   "metadata": {},
   "source": [
    "### Question 14"
   ]
  },
  {
   "cell_type": "code",
   "execution_count": 24,
   "id": "843658b7",
   "metadata": {
    "vscode": {
     "languageId": "ocaml"
    }
   },
   "outputs": [
    {
     "data": {
      "text/plain": [
       "val mediane : bulletin_jm -> mention = <fun>\n"
      ]
     },
     "execution_count": 24,
     "metadata": {},
     "output_type": "execute_result"
    },
    {
     "data": {
      "text/plain": [
       "- : mention = Assezbien\n"
      ]
     },
     "execution_count": 24,
     "metadata": {},
     "output_type": "execute_result"
    }
   ],
   "source": [
    "let mediane (b : bulletin_jm) : mention =\n",
    "    let len = List.length b in\n",
    "        List.nth b (len/2) ;;                \n",
    "\n",
    "mediane [Arejeter; Arejeter; Assezbien; Bien; Tresbien] ;;"
   ]
  },
  {
   "cell_type": "markdown",
   "id": "947f312b",
   "metadata": {},
   "source": [
    "### Question 15"
   ]
  },
  {
   "cell_type": "code",
   "execution_count": 25,
   "id": "cce9b5fe",
   "metadata": {
    "vscode": {
     "languageId": "ocaml"
    }
   },
   "outputs": [
    {
     "data": {
      "text/plain": [
       "val meilleure_mediane : bulletin_jm list -> mention = <fun>\n"
      ]
     },
     "execution_count": 25,
     "metadata": {},
     "output_type": "execute_result"
    },
    {
     "data": {
      "text/plain": [
       "- : mention = Tresbien\n"
      ]
     },
     "execution_count": 25,
     "metadata": {},
     "output_type": "execute_result"
    }
   ],
   "source": [
    "(*Algorithme de la fonction: \n",
    "    - crée une liste des medianes \n",
    "    - tri cette liste allant de pire à meilleure mediane\n",
    "    - renvoie le premier élément de la liste inversée (c'est-à-dire la meilleure médiane)*)\n",
    "let meilleure_mediane (ms: bulletin_jm list) : mention =\n",
    "      let medianes = List.map mediane ms in \n",
    "          let s = List.sort compare medianes in \n",
    "          List.hd (List.rev s);;\n",
    "          \n",
    "(*Test avec jeux d'essais*)\n",
    "meilleure_mediane ms_triee;;"
   ]
  },
  {
   "cell_type": "markdown",
   "id": "dcb1170a",
   "metadata": {},
   "source": [
    "### Question 16"
   ]
  },
  {
   "cell_type": "code",
   "execution_count": 26,
   "id": "3d7cc32d",
   "metadata": {
    "vscode": {
     "languageId": "ocaml"
    }
   },
   "outputs": [
    {
     "data": {
      "text/plain": [
       "val supprime_perdants : bulletin_jm list -> bulletin_jm list = <fun>\n"
      ]
     },
     "execution_count": 26,
     "metadata": {},
     "output_type": "execute_result"
    },
    {
     "data": {
      "text/plain": [
       "val ms_sup : bulletin_jm list =\n",
       "  [[Assezbien; Tresbien; Tresbien]; []; []; [Passable; Tresbien; Tresbien]]\n"
      ]
     },
     "execution_count": 26,
     "metadata": {},
     "output_type": "execute_result"
    }
   ],
   "source": [
    "let supprime_perdants (ms: bulletin_jm list) : bulletin_jm list =\n",
    "  let meilleure = meilleure_mediane ms in\n",
    "      List.map (fun b -> if mediane b = meilleure then b else []) ms ;;\n",
    "\n",
    "let ms_sup = supprime_perdants ms_triee ;;"
   ]
  },
  {
   "cell_type": "markdown",
   "id": "50fefef5",
   "metadata": {},
   "source": [
    "### Question 17"
   ]
  },
  {
   "cell_type": "code",
   "execution_count": 27,
   "id": "d63f70fd",
   "metadata": {
    "vscode": {
     "languageId": "ocaml"
    }
   },
   "outputs": [
    {
     "data": {
      "text/plain": [
       "val supprime_mention : bulletin_jm -> mention -> bulletin_jm = <fun>\n"
      ]
     },
     "execution_count": 27,
     "metadata": {},
     "output_type": "execute_result"
    },
    {
     "data": {
      "text/plain": [
       "- : bulletin_jm = [Assezbien; Tresbien]\n"
      ]
     },
     "execution_count": 27,
     "metadata": {},
     "output_type": "execute_result"
    }
   ],
   "source": [
    "let rec supprime_mention (l:bulletin_jm) (m: mention) : bulletin_jm = \n",
    "    match l with \n",
    "        [] -> []\n",
    "        | e::remainder -> if e = m then remainder else e::(supprime_mention remainder m) ;;\n",
    "        \n",
    "(*Test avec jeu d'essai*)        \n",
    "supprime_mention [Assezbien ; Tresbien ; Tresbien] Tresbien ;;"
   ]
  },
  {
   "cell_type": "code",
   "execution_count": 28,
   "id": "6a04f001",
   "metadata": {
    "vscode": {
     "languageId": "ocaml"
    }
   },
   "outputs": [
    {
     "data": {
      "text/plain": [
       "val supprime_meilleure_mediane : urne_jm -> urne_jm = <fun>\n"
      ]
     },
     "execution_count": 28,
     "metadata": {},
     "output_type": "execute_result"
    },
    {
     "data": {
      "text/plain": [
       "val ms_triee2 : urne_jm =\n",
       "  [[Assezbien; Tresbien]; []; []; [Passable; Tresbien]]\n"
      ]
     },
     "execution_count": 28,
     "metadata": {},
     "output_type": "execute_result"
    }
   ],
   "source": [
    "let supprime_meilleure_mediane (l:urne_jm):urne_jm =\n",
    "  let non_empty_lists = List.filter (fun x -> x <> []) l in\n",
    "  let best_median = meilleure_mediane non_empty_lists in\n",
    "  List.map (fun lst -> if lst = [] then [] else supprime_mention lst best_median) l ;;\n",
    "  \n",
    "let ms_triee2 = supprime_meilleure_mediane ms_sup ;;"
   ]
  },
  {
   "cell_type": "markdown",
   "id": "ad521040",
   "metadata": {},
   "source": [
    "### Question 18"
   ]
  },
  {
   "cell_type": "code",
   "execution_count": 29,
   "id": "e2b625de",
   "metadata": {
    "vscode": {
     "languageId": "ocaml"
    }
   },
   "outputs": [
    {
     "data": {
      "text/plain": [
       "val vainqueur_jm : bulletin_jm list -> candidat = <fun>\n"
      ]
     },
     "execution_count": 29,
     "metadata": {},
     "output_type": "execute_result"
    },
    {
     "data": {
      "text/plain": [
       "- : candidat = \"\"\n"
      ]
     },
     "execution_count": 29,
     "metadata": {},
     "output_type": "execute_result"
    },
    {
     "data": {
      "text/plain": [
       "- : candidat = \"1\"\n"
      ]
     },
     "execution_count": 29,
     "metadata": {},
     "output_type": "execute_result"
    },
    {
     "data": {
      "text/plain": [
       "- : candidat = \"0\"\n"
      ]
     },
     "execution_count": 29,
     "metadata": {},
     "output_type": "execute_result"
    }
   ],
   "source": [
    "let vainqueur_jm (ms : bulletin_jm list) : candidat =\n",
    "  let candidats = List.init (List.length ms) (fun i -> i) in\n",
    "      let candidats_filtres = List.filter (fun i -> (List.nth ms i) != []) candidats in\n",
    "          match candidats_filtres with\n",
    "              | [i] -> string_of_int i\n",
    "              | _ ->\n",
    "                let medianes = List.map (fun i -> mediane (List.nth ms i)) candidats_filtres in\n",
    "                    let mediane_max = List.fold_left max Arejeter medianes in\n",
    "                        let max_count = List.fold_left (fun acc m -> if m = mediane_max then acc + 1 else acc) 0 medianes in\n",
    "                            if max_count = 1 then string_of_int (List.find (fun i -> mediane (List.nth ms i) = mediane_max) candidats_filtres) else \"\"\n",
    ";;\n",
    "\n",
    "vainqueur_jm ms_triee2 ;;\n",
    "vainqueur_jm [[];[Passable]; []; []];;\n",
    "vainqueur_jm [[Passable; Tresbien; Tresbien]; [Arejeter; Bien; Tresbien];\n",
    "   [Arejeter; Arejeter; Passable]];;"
   ]
  },
  {
   "cell_type": "markdown",
   "id": "171d8d26",
   "metadata": {},
   "source": [
    "### Question 19"
   ]
  },
  {
   "cell_type": "code",
   "execution_count": 30,
   "id": "fe05bd56",
   "metadata": {
    "vscode": {
     "languageId": "ocaml"
    }
   },
   "outputs": [
    {
     "data": {
      "text/plain": [
       "val lc1 : panel = [\"Eric\"; \"Kyle\"; \"Stan\"]\n"
      ]
     },
     "execution_count": 30,
     "metadata": {},
     "output_type": "execute_result"
    },
    {
     "data": {
      "text/plain": [
       "val u1 : urne =\n",
       "  [\"Eric\"; \"Kyle\"; \"Stan\"; \"Kyle\"; \"Kyle\"; \"Stan\"; \"Eric\"; \"Eric\"; \"Kyle\";\n",
       "   \"Eric\"; \"Stan\"; \"Eric\"; \"Eric\"; \"Eric\"; \"Stan\"; \"Stan\"]\n"
      ]
     },
     "execution_count": 30,
     "metadata": {},
     "output_type": "execute_result"
    },
    {
     "data": {
      "text/plain": [
       "val lc2 : panel = [\"Eric\"; \"Kyle\"; \"Stan\"; \"Keny\"]\n"
      ]
     },
     "execution_count": 30,
     "metadata": {},
     "output_type": "execute_result"
    },
    {
     "data": {
      "text/plain": [
       "val u2 : urne =\n",
       "  [\"Keny\"; \"Kyle\"; \"Keny\"; \"Kyle\"; \"Kyle\"; \"Keny\"; \"Eric\"; \"Eric\"; \"Kyle\";\n",
       "   \"Eric\"; \"Stan\"; \"Eric\"; \"Eric\"; \"Eric\"; \"Stan\"; \"Stan\"]\n"
      ]
     },
     "execution_count": 30,
     "metadata": {},
     "output_type": "execute_result"
    },
    {
     "data": {
      "text/plain": [
       "val b1 : bulletin_jm = [Tresbien; Assezbien; Arejeter; Passable]\n"
      ]
     },
     "execution_count": 30,
     "metadata": {},
     "output_type": "execute_result"
    },
    {
     "data": {
      "text/plain": [
       "val b2 : bulletin_jm = [Assezbien; Assezbien; Arejeter; Tresbien]\n"
      ]
     },
     "execution_count": 30,
     "metadata": {},
     "output_type": "execute_result"
    },
    {
     "data": {
      "text/plain": [
       "val b3 : bulletin_jm = [Tresbien; Arejeter; Arejeter; Tresbien]\n"
      ]
     },
     "execution_count": 30,
     "metadata": {},
     "output_type": "execute_result"
    },
    {
     "data": {
      "text/plain": [
       "type urne_jm = bulletin_jm list\n"
      ]
     },
     "execution_count": 30,
     "metadata": {},
     "output_type": "execute_result"
    },
    {
     "data": {
      "text/plain": [
       "val ujm1 : urne_jm =\n",
       "  [[Tresbien; Assezbien; Arejeter; Passable];\n",
       "   [Assezbien; Assezbien; Arejeter; Tresbien];\n",
       "   [Tresbien; Arejeter; Arejeter; Tresbien]]\n"
      ]
     },
     "execution_count": 30,
     "metadata": {},
     "output_type": "execute_result"
    },
    {
     "data": {
      "text/plain": [
       "val ujm2 : urne_jm =\n",
       "  [[Bien; Assezbien; Insuffisant; Bien]; [Bien; Bien; Passable; Bien];\n",
       "   [Assezbien; Assezbien; Insuffisant; Tresbien];\n",
       "   [Arejeter; Assezbien; Insuffisant; Bien];\n",
       "   [Assezbien; Arejeter; Assezbien; Bien];\n",
       "   [Arejeter; Assezbien; Tresbien; Tresbien];\n",
       "   [Assezbien; Arejeter; Insuffisant; Bien];\n",
       "   [Passable; Passable; Insuffisant; Bien];\n",
       "   [Insuffisant; Bien; Tresbien; Bien];\n",
       "   [Arejeter; Assezbien; Passable; Tresbien];\n",
       "   [Bien; Assezbien; Assezbien; Bien]; [Tresbien; Tresbien; Tresbien; Bien];\n",
       "   [Passable; Tresbien; Insuffisant; Tresbien];\n",
       "   [Insuffisant; Bien; Assezbien; Bien];\n",
       "   [Arejeter; Passable; Insuffisant; Tresbien];\n",
       "   [Arejeter; Tresbien; Assezbien; Tresbien];\n",
       "   [Insuffisant; Passable; Bien; Tresbien];\n",
       "   [Assezbien; Assezbien; Passable; Tresbien];\n",
       "   [Passable; Insuffisant; Bien; Bien];\n",
       "   [Assezbien; Insuffisant; Passable; Tresbien];\n",
       "   [Tresbien; Arejeter; Insuffisant; Tresbien];\n",
       "   [Passable; Arejeter; Bien; Tresbien];\n",
       "   [Assezbien; Bien; Passable; Tresbien];\n",
       "   [Tresbien; Tresbien; Assezbien; Tresbien];\n",
       "   [Tresbien; Arejeter; Assezbien; Tresbien]; [Bien; Bien; Passable; Bien];\n",
       "   [Tresbien; Arejeter; Passable; Bien];\n",
       "   [Assezbien; Bien; Passable; Tresbien]; [Tresbien; Bien; Tresbien; Bien];\n",
       "   [Arejeter; Arejeter; Tresbien; Bien];\n",
       "   [Assezbien; Tresbien; Assezbien; Tresbien];\n",
       "   [Passable; Tresbien; Bien; Tresbien];\n",
       "   [Insuffisant; Bien; Arejeter; Tresbien];\n",
       "   [Tresbien; Tresbien; Arejeter; Bien]; [Arejeter; Bien; Bien; Tresbien];\n",
       "   [Arejeter; Assezbien; Assezbien; Tresbien];\n",
       "   [Arejeter; Bien; Tresbien; Tresbien];\n",
       "   [Passable; Bien; Arejeter; Tresbien];\n",
       "   [Insuffisant; Tresbien; Insuffisant; Tresbien];\n",
       "   [Assezbien; Bien; Insuffisant; Tresbien];\n",
       "   [Passable; Insuffisant; Insuffisant; Tresbien];\n",
       "   [Assezbien; Insuffisant; Passable; Tresbien];\n",
       "   [Assezbien; Assezbien; Bien; Bien]; [Assezbien; Passable; Tresbien; Bien];\n",
       "   [Insuffisant; Arejeter; Bien; Tresbien];\n",
       "   [Assezbien; Bien; Passable; Tresbien];\n",
       "   [Bien; Insuffisant; Arejeter; Tresbien]; [Passable; Bien; Tresbien; Bien];\n",
       "   [Assezbien; Assezbien; Tresbien; Tresbien]; [Tresbien; Bien; ...]; ...]\n"
      ]
     },
     "execution_count": 30,
     "metadata": {},
     "output_type": "execute_result"
    },
    {
     "data": {
      "text/plain": [
       "val ujm3 : urne_jm =\n",
       "  [[Arejeter; Bien; Tresbien; Insuffisant; Bien; Assezbien];\n",
       "   [Insuffisant; Bien; Bien; Insuffisant; Passable; Assezbien];\n",
       "   [Assezbien; Assezbien; Tresbien; Arejeter; Assezbien; Tresbien];\n",
       "   [Bien; Assezbien; Bien; Passable; Insuffisant; Passable];\n",
       "   [Insuffisant; Arejeter; Bien; Bien; Arejeter; Tresbien];\n",
       "   [Assezbien; Arejeter; Tresbien; Tresbien; Arejeter; Bien];\n",
       "   [Arejeter; Tresbien; Bien; Passable; Passable; Insuffisant];\n",
       "   [Passable; Passable; Bien; Bien; Bien; Passable];\n",
       "   [Insuffisant; Tresbien; Bien; Arejeter; Tresbien; Tresbien];\n",
       "   [Arejeter; Passable; Tresbien; Assezbien; Bien; Assezbien];\n",
       "   [Assezbien; Passable; Bien; Assezbien; Insuffisant; Arejeter];\n",
       "   [Arejeter; Insuffisant; Bien; Passable; Insuffisant; Arejeter];\n",
       "   [Insuffisant; Arejeter; Bien; Bien; Arejeter; Assezbien];\n",
       "   [Assezbien; Bien; Tresbien; Bien; Arejeter; Tresbien];\n",
       "   [Passable; Passable; Tresbien; Assezbien; Assezbien; Bien];\n",
       "   [Arejeter; Assezbien; Bien; Tresbien; Assezbien; Bien];\n",
       "   [Passable; Arejeter; Tresbien; Tresbien; Assezbien; Bien];\n",
       "   [Assezbien; Tresbien; Tresbien; Assezbien; Insuffisant; Assezbien];\n",
       "   [Tresbien; Assezbien; Tresbien; Arejeter; Insuffisant; Bien];\n",
       "   [Bien; Tresbien; Bien; Arejeter; Bien; Insuffisant];\n",
       "   [Insuffisant; Assezbien; Tresbien; Insuffisant; Bien; Bien];\n",
       "   [Arejeter; Insuffisant; Tresbien; Arejeter; Assezbien; Tresbien];\n",
       "   [Insuffisant; Tresbien; Tresbien; Arejeter; Arejeter; Insuffisant];\n",
       "   [Passable; Bien; Tresbien; Bien; Arejeter; Assezbien];\n",
       "   [Insuffisant; Assezbien; Tresbien; Passable; Passable; Arejeter];\n",
       "   [Assezbien; Arejeter; Bien; Bien; Assezbien; Passable];\n",
       "   [Arejeter; Bien; Bien; Bien; Bien; Tresbien];\n",
       "   [Tresbien; Assezbien; Bien; Tresbien; Passable; Bien];\n",
       "   [Bien; Tresbien; Tresbien; Arejeter; Bien; Insuffisant];\n",
       "   [Arejeter; Arejeter; Tresbien; Passable; Tresbien; Bien];\n",
       "   [Arejeter; Assezbien; Bien; Insuffisant; Insuffisant; Insuffisant];\n",
       "   [Assezbien; Passable; Bien; Tresbien; Bien; Assezbien];\n",
       "   [Passable; Bien; Bien; Bien; Passable; Assezbien];\n",
       "   [Tresbien; Arejeter; Tresbien; Assezbien; Assezbien; Bien];\n",
       "   [Insuffisant; Passable; Bien; Bien; Tresbien; Bien];\n",
       "   [Tresbien; Insuffisant; Bien; Bien; Arejeter; Bien];\n",
       "   [Arejeter; Tresbien; Tresbien; Passable; Assezbien; Bien]; [...]; ...]\n"
      ]
     },
     "execution_count": 30,
     "metadata": {},
     "output_type": "execute_result"
    }
   ],
   "source": [
    "(*3 candidats*)\n",
    "let lc1:panel = [\"Eric\";\"Kyle\";\"Stan\"];;\n",
    "let u1:urne = [\"Eric\";\"Kyle\";\"Stan\";\"Kyle\";\"Kyle\";\"Stan\";\"Eric\";\"Eric\";\"Kyle\";\"Eric\";\"Stan\";\"Eric\";\"Eric\";\"Eric\";\"Stan\";\"Stan\"];;\n",
    "\n",
    "(*4 candidats*)\n",
    "let lc2:panel = [\"Eric\";\"Kyle\";\"Stan\";\"Keny\"];;\n",
    "let u2:urne = [\"Keny\";\"Kyle\";\"Keny\";\"Kyle\";\"Kyle\";\"Keny\";\"Eric\";\"Eric\";\"Kyle\";\"Eric\";\"Stan\";\"Eric\";\"Eric\";\"Eric\";\"Stan\";\"Stan\"];;\n",
    "\n",
    "(* Urne jugement majoritaire *)\n",
    "let (b1:bulletin_jm) = [Tresbien;Assezbien;Arejeter;Passable];;\n",
    "let (b2:bulletin_jm) = [Assezbien;Assezbien;Arejeter;Tresbien];;\n",
    "let (b3:bulletin_jm) = [Tresbien;Arejeter;Arejeter;Tresbien];;\n",
    "\n",
    "type urne_jm = bulletin_jm list;;\n",
    "\n",
    "let (ujm1:urne_jm) = [b1;b2;b3];;\n",
    "let (ujm2:urne_jm) =\n",
    "  [[Bien; Assezbien; Insuffisant; Bien]; [Bien; Bien; Passable; Bien];\n",
    "   [Assezbien; Assezbien; Insuffisant; Tresbien];\n",
    "   [Arejeter; Assezbien; Insuffisant; Bien];\n",
    "   [Assezbien; Arejeter; Assezbien; Bien];\n",
    "   [Arejeter; Assezbien; Tresbien; Tresbien];\n",
    "   [Assezbien; Arejeter; Insuffisant; Bien];\n",
    "   [Passable; Passable; Insuffisant; Bien];\n",
    "   [Insuffisant; Bien; Tresbien; Bien];\n",
    "   [Arejeter; Assezbien; Passable; Tresbien];\n",
    "   [Bien; Assezbien; Assezbien; Bien]; [Tresbien; Tresbien; Tresbien; Bien];\n",
    "   [Passable; Tresbien; Insuffisant; Tresbien];\n",
    "   [Insuffisant; Bien; Assezbien; Bien];\n",
    "   [Arejeter; Passable; Insuffisant; Tresbien];\n",
    "   [Arejeter; Tresbien; Assezbien; Tresbien];\n",
    "   [Insuffisant; Passable; Bien; Tresbien];\n",
    "   [Assezbien; Assezbien; Passable; Tresbien];\n",
    "   [Passable; Insuffisant; Bien; Bien];\n",
    "   [Assezbien; Insuffisant; Passable; Tresbien];\n",
    "   [Tresbien; Arejeter; Insuffisant; Tresbien];\n",
    "   [Passable; Arejeter; Bien; Tresbien];\n",
    "   [Assezbien; Bien; Passable; Tresbien];\n",
    "   [Tresbien; Tresbien; Assezbien; Tresbien];\n",
    "   [Tresbien; Arejeter; Assezbien; Tresbien]; [Bien; Bien; Passable; Bien];\n",
    "   [Tresbien; Arejeter; Passable; Bien];\n",
    "   [Assezbien; Bien; Passable; Tresbien]; [Tresbien; Bien; Tresbien; Bien];\n",
    "   [Arejeter; Arejeter; Tresbien; Bien];\n",
    "   [Assezbien; Tresbien; Assezbien; Tresbien];\n",
    "   [Passable; Tresbien; Bien; Tresbien];\n",
    "   [Insuffisant; Bien; Arejeter; Tresbien];\n",
    "   [Tresbien; Tresbien; Arejeter; Bien]; [Arejeter; Bien; Bien; Tresbien];\n",
    "   [Arejeter; Assezbien; Assezbien; Tresbien];\n",
    "   [Arejeter; Bien; Tresbien; Tresbien];\n",
    "   [Passable; Bien; Arejeter; Tresbien];\n",
    "   [Insuffisant; Tresbien; Insuffisant; Tresbien];\n",
    "   [Assezbien; Bien; Insuffisant; Tresbien];\n",
    "   [Passable; Insuffisant; Insuffisant; Tresbien];\n",
    "   [Assezbien; Insuffisant; Passable; Tresbien];\n",
    "   [Assezbien; Assezbien; Bien; Bien]; [Assezbien; Passable; Tresbien; Bien];\n",
    "   [Insuffisant; Arejeter; Bien; Tresbien];\n",
    "   [Assezbien; Bien; Passable; Tresbien];\n",
    "   [Bien; Insuffisant; Arejeter; Tresbien]; [Passable; Bien; Tresbien; Bien];\n",
    "   [Assezbien; Assezbien; Tresbien; Tresbien];\n",
    "   [Tresbien; Bien; Tresbien; Tresbien];\n",
    "   [Tresbien; Assezbien; Tresbien; Bien];\n",
    "   [Arejeter; Assezbien; Insuffisant; Bien];\n",
    "   [Assezbien; Insuffisant; Tresbien; Tresbien];\n",
    "   [Arejeter; Bien; Passable; Tresbien]; [Assezbien; Arejeter; Bien; Bien];\n",
    "   [Arejeter; Assezbien; Insuffisant; Bien];\n",
    "   [Arejeter; Passable; Passable; Tresbien];\n",
    "   [Assezbien; Bien; Tresbien; Tresbien];\n",
    "   [Tresbien; Arejeter; Bien; Tresbien];\n",
    "   [Assezbien; Tresbien; Bien; Tresbien];\n",
    "   [Passable; Arejeter; Arejeter; Tresbien];\n",
    "   [Arejeter; Passable; Insuffisant; Bien];\n",
    "   [Tresbien; Passable; Assezbien; Tresbien];\n",
    "   [Assezbien; Insuffisant; Arejeter; Bien];\n",
    "   [Insuffisant; Tresbien; Assezbien; Tresbien];\n",
    "   [Insuffisant; Bien; Insuffisant; Bien]; [Tresbien; Tresbien; Bien; Bien];\n",
    "   [Insuffisant; Insuffisant; Bien; Bien];\n",
    "   [Passable; Arejeter; Assezbien; Bien];\n",
    "   [Tresbien; Tresbien; Insuffisant; Bien];\n",
    "   [Tresbien; Passable; Tresbien; Bien];\n",
    "   [Assezbien; Tresbien; Passable; Bien]; [Bien; Assezbien; Assezbien; Bien];\n",
    "   [Insuffisant; Arejeter; Passable; Tresbien];\n",
    "   [Tresbien; Bien; Arejeter; Bien];\n",
    "   [Arejeter; Arejeter; Passable; Tresbien];\n",
    "   [Arejeter; Bien; Assezbien; Bien]; [Arejeter; Passable; Assezbien; Bien];\n",
    "   [Tresbien; Tresbien; Passable; Bien]; [Bien; Insuffisant; Passable; Bien];\n",
    "   [Bien; Tresbien; Bien; Tresbien]; [Tresbien; Bien; Passable; Bien];\n",
    "   [Passable; Assezbien; Insuffisant; Tresbien];\n",
    "   [Bien; Arejeter; Insuffisant; Tresbien];\n",
    "   [Assezbien; Passable; Assezbien; Bien];\n",
    "   [Assezbien; Arejeter; Tresbien; Bien];\n",
    "   [Tresbien; Insuffisant; Arejeter; Tresbien];\n",
    "   [Arejeter; Insuffisant; Arejeter; Bien];\n",
    "   [Tresbien; Bien; Passable; Tresbien];\n",
    "   [Assezbien; Arejeter; Arejeter; Tresbien];\n",
    "   [Insuffisant; Arejeter; Insuffisant; Bien];\n",
    "   [Assezbien; Insuffisant; Arejeter; Bien];\n",
    "   [Assezbien; Tresbien; Arejeter; Tresbien];\n",
    "   [Passable; Arejeter; Tresbien; Bien];\n",
    "   [Insuffisant; Arejeter; Insuffisant; Bien];\n",
    "   [Insuffisant; Passable; Tresbien; Tresbien];\n",
    "   [Passable; Arejeter; Arejeter; Tresbien];\n",
    "   [Arejeter; Arejeter; Bien; Tresbien]; [Arejeter; Insuffisant; Bien; Bien];\n",
    "   [Arejeter; Insuffisant; Arejeter; Bien]];;\n",
    "\n",
    "let (ujm3:urne_jm) = \n",
    "  [[Arejeter; Bien; Tresbien; Insuffisant; Bien; Assezbien];\n",
    "   [Insuffisant; Bien; Bien; Insuffisant; Passable; Assezbien];\n",
    "   [Assezbien; Assezbien; Tresbien; Arejeter; Assezbien; Tresbien];\n",
    "   [Bien; Assezbien; Bien; Passable; Insuffisant; Passable];\n",
    "   [Insuffisant; Arejeter; Bien; Bien; Arejeter; Tresbien];\n",
    "   [Assezbien; Arejeter; Tresbien; Tresbien; Arejeter; Bien];\n",
    "   [Arejeter; Tresbien; Bien; Passable; Passable; Insuffisant];\n",
    "   [Passable; Passable; Bien; Bien; Bien; Passable];\n",
    "   [Insuffisant; Tresbien; Bien; Arejeter; Tresbien; Tresbien];\n",
    "   [Arejeter; Passable; Tresbien; Assezbien; Bien; Assezbien];\n",
    "   [Assezbien; Passable; Bien; Assezbien; Insuffisant; Arejeter];\n",
    "   [Arejeter; Insuffisant; Bien; Passable; Insuffisant; Arejeter];\n",
    "   [Insuffisant; Arejeter; Bien; Bien; Arejeter; Assezbien];\n",
    "   [Assezbien; Bien; Tresbien; Bien; Arejeter; Tresbien];\n",
    "   [Passable; Passable; Tresbien; Assezbien; Assezbien; Bien];\n",
    "   [Arejeter; Assezbien; Bien; Tresbien; Assezbien; Bien];\n",
    "   [Passable; Arejeter; Tresbien; Tresbien; Assezbien; Bien];\n",
    "   [Assezbien; Tresbien; Tresbien; Assezbien; Insuffisant; Assezbien];\n",
    "   [Tresbien; Assezbien; Tresbien; Arejeter; Insuffisant; Bien];\n",
    "   [Bien; Tresbien; Bien; Arejeter; Bien; Insuffisant];\n",
    "   [Insuffisant; Assezbien; Tresbien; Insuffisant; Bien; Bien];\n",
    "   [Arejeter; Insuffisant; Tresbien; Arejeter; Assezbien; Tresbien];\n",
    "   [Insuffisant; Tresbien; Tresbien; Arejeter; Arejeter; Insuffisant];\n",
    "   [Passable; Bien; Tresbien; Bien; Arejeter; Assezbien];\n",
    "   [Insuffisant; Assezbien; Tresbien; Passable; Passable; Arejeter];\n",
    "   [Assezbien; Arejeter; Bien; Bien; Assezbien; Passable];\n",
    "   [Arejeter; Bien; Bien; Bien; Bien; Tresbien];\n",
    "   [Tresbien; Assezbien; Bien; Tresbien; Passable; Bien];\n",
    "   [Bien; Tresbien; Tresbien; Arejeter; Bien; Insuffisant];\n",
    "   [Arejeter; Arejeter; Tresbien; Passable; Tresbien; Bien];\n",
    "   [Arejeter; Assezbien; Bien; Insuffisant; Insuffisant; Insuffisant];\n",
    "   [Assezbien; Passable; Bien; Tresbien; Bien; Assezbien];\n",
    "   [Passable; Bien; Bien; Bien; Passable; Assezbien];\n",
    "   [Tresbien; Arejeter; Tresbien; Assezbien; Assezbien; Bien];\n",
    "   [Insuffisant; Passable; Bien; Bien; Tresbien; Bien];\n",
    "   [Tresbien; Insuffisant; Bien; Bien; Arejeter; Bien];\n",
    "   [Arejeter; Tresbien; Tresbien; Passable; Assezbien; Bien];\n",
    "   [Arejeter; Assezbien; Bien; Assezbien; Assezbien; Arejeter];\n",
    "   [Bien; Tresbien; Tresbien; Passable; Insuffisant; Bien];\n",
    "   [Tresbien; Arejeter; Tresbien; Assezbien; Passable; Passable];\n",
    "   [Passable; Tresbien; Tresbien; Passable; Assezbien; Assezbien];\n",
    "   [Bien; Bien; Tresbien; Insuffisant; Assezbien; Passable];\n",
    "   [Passable; Passable; Tresbien; Insuffisant; Passable; Tresbien];\n",
    "   [Assezbien; Passable; Bien; Insuffisant; Passable; Bien];\n",
    "   [Passable; Tresbien; Tresbien; Assezbien; Arejeter; Assezbien];\n",
    "   [Bien; Passable; Bien; Assezbien; Arejeter; Insuffisant];\n",
    "   [Assezbien; Insuffisant; Bien; Passable; Tresbien; Passable];\n",
    "   [Bien; Arejeter; Bien; Insuffisant; Assezbien; Assezbien];\n",
    "   [Bien; Bien; Bien; Assezbien; Tresbien; Insuffisant];\n",
    "   [Assezbien; Arejeter; Bien; Passable; Assezbien; Bien];\n",
    "   [Tresbien; Passable; Bien; Assezbien; Bien; Tresbien];\n",
    "   [Bien; Tresbien; Tresbien; Assezbien; Bien; Passable];\n",
    "   [Passable; Insuffisant; Tresbien; Bien; Insuffisant; Tresbien];\n",
    "   [Bien; Assezbien; Tresbien; Tresbien; Bien; Arejeter];\n",
    "   [Bien; Bien; Bien; Passable; Insuffisant; Passable];\n",
    "   [Bien; Tresbien; Tresbien; Assezbien; Passable; Bien];\n",
    "   [Insuffisant; Passable; Bien; Passable; Tresbien; Arejeter];\n",
    "   [Bien; Insuffisant; Bien; Passable; Tresbien; Arejeter];\n",
    "   [Passable; Assezbien; Tresbien; Tresbien; Assezbien; Passable];\n",
    "   [Passable; Assezbien; Tresbien; Passable; Arejeter; Tresbien];\n",
    "   [Insuffisant; Tresbien; Tresbien; Assezbien; Assezbien; Assezbien];\n",
    "   [Bien; Tresbien; Tresbien; Bien; Assezbien; Insuffisant];\n",
    "   [Arejeter; Assezbien; Bien; Assezbien; Tresbien; Arejeter];\n",
    "   [Bien; Tresbien; Tresbien; Tresbien; Arejeter; Arejeter];\n",
    "   [Insuffisant; Tresbien; Bien; Arejeter; Insuffisant; Insuffisant];\n",
    "   [Bien; Arejeter; Tresbien; Insuffisant; Passable; Passable];\n",
    "   [Insuffisant; Insuffisant; Tresbien; Passable; Arejeter; Bien];\n",
    "   [Insuffisant; Insuffisant; Tresbien; Tresbien; Tresbien; Insuffisant];\n",
    "   [Tresbien; Passable; Tresbien; Passable; Passable; Passable];\n",
    "   [Passable; Insuffisant; Bien; Tresbien; Tresbien; Tresbien];\n",
    "   [Bien; Passable; Tresbien; Passable; Passable; Tresbien];\n",
    "   [Passable; Arejeter; Tresbien; Assezbien; Assezbien; Passable];\n",
    "   [Bien; Assezbien; Tresbien; Insuffisant; Arejeter; Tresbien];\n",
    "   [Bien; Tresbien; Tresbien; Insuffisant; Passable; Assezbien];\n",
    "   [Arejeter; Assezbien; Bien; Arejeter; Bien; Assezbien];\n",
    "   [Bien; Tresbien; Bien; Tresbien; Tresbien; Tresbien];\n",
    "   [Passable; Arejeter; Bien; Passable; Assezbien; Tresbien];\n",
    "   [Assezbien; Passable; Bien; Tresbien; Assezbien; Assezbien];\n",
    "   [Insuffisant; Tresbien; Bien; Arejeter; Tresbien; Bien];\n",
    "   [Insuffisant; Bien; Bien; Bien; Bien; Arejeter];\n",
    "   [Passable; Bien; Bien; Insuffisant; Tresbien; Insuffisant];\n",
    "   [Passable; Passable; Tresbien; Assezbien; Tresbien; Arejeter];\n",
    "   [Tresbien; Assezbien; Bien; Assezbien; Insuffisant; Bien];\n",
    "   [Arejeter; Passable; Tresbien; Insuffisant; Tresbien; Passable];\n",
    "   [Tresbien; Passable; Bien; Arejeter; Insuffisant; Insuffisant];\n",
    "   [Tresbien; Bien; Tresbien; Passable; Insuffisant; Insuffisant];\n",
    "   [Tresbien; Arejeter; Tresbien; Assezbien; Passable; Assezbien];\n",
    "   [Assezbien; Bien; Tresbien; Passable; Tresbien; Arejeter];\n",
    "   [Bien; Arejeter; Bien; Insuffisant; Tresbien; Tresbien];\n",
    "   [Insuffisant; Arejeter; Tresbien; Bien; Tresbien; Passable];\n",
    "   [Bien; Insuffisant; Tresbien; Passable; Tresbien; Assezbien];\n",
    "   [Assezbien; Passable; Bien; Insuffisant; Bien; Passable];\n",
    "   [Insuffisant; Assezbien; Tresbien; Bien; Bien; Assezbien];\n",
    "   [Bien; Tresbien; Bien; Bien; Assezbien; Tresbien];\n",
    "   [Insuffisant; Bien; Tresbien; Tresbien; Passable; Arejeter];\n",
    "   [Passable; Insuffisant; Tresbien; Bien; Insuffisant; Arejeter];\n",
    "   [Passable; Arejeter; Bien; Arejeter; Passable; Assezbien];\n",
    "   [Passable; Arejeter; Tresbien; Assezbien; Tresbien; Arejeter];\n",
    "   [Arejeter; Assezbien; Bien; Passable; Tresbien; Bien];\n",
    "   [Bien; Bien; Bien; Assezbien; Tresbien; Passable]];;\n"
   ]
  },
  {
   "cell_type": "code",
   "execution_count": 31,
   "id": "638e380d",
   "metadata": {
    "vscode": {
     "languageId": "ocaml"
    }
   },
   "outputs": [
    {
     "data": {
      "text/plain": [
       "val trouve_vainqueur_jm : urne_jm -> candidat = <fun>\n"
      ]
     },
     "execution_count": 31,
     "metadata": {},
     "output_type": "execute_result"
    },
    {
     "data": {
      "text/plain": [
       "- : candidat = \"1\"\n"
      ]
     },
     "execution_count": 31,
     "metadata": {},
     "output_type": "execute_result"
    },
    {
     "data": {
      "text/plain": [
       "- : candidat = \"56\"\n"
      ]
     },
     "execution_count": 31,
     "metadata": {},
     "output_type": "execute_result"
    },
    {
     "data": {
      "text/plain": [
       "- : candidat = \"75\"\n"
      ]
     },
     "execution_count": 31,
     "metadata": {},
     "output_type": "execute_result"
    }
   ],
   "source": [
    "let rec trouve_vainqueur_jm (urne: urne_jm) : string =\n",
    "    let resultat = vainqueur_jm urne in\n",
    "        if resultat <> \"\" then resultat else\n",
    "            let urne_meilleure_mediane_supprimee = supprime_meilleure_mediane urne in\n",
    "                trouve_vainqueur_jm urne_meilleure_mediane_supprimee ;; \n",
    "\n",
    "trouve_vainqueur_jm ujm1 ;;\n",
    "trouve_vainqueur_jm ujm2 ;;\n",
    "trouve_vainqueur_jm ujm3 ;;"
   ]
  },
  {
   "cell_type": "markdown",
   "id": "4ece70d5",
   "metadata": {},
   "source": [
    "### Question 20 "
   ]
  },
  {
   "attachments": {},
   "cell_type": "markdown",
   "id": "5d0cb924",
   "metadata": {},
   "source": [
    "D'un côté, le jugement majoritaire résout le problème du vote utile car il permet de donner aux électeurs une évaluation plus nuancée des candidats plutôt que de devoir choisir un seul candidat. Cela donne donc l'opportunité aux électeurs de donner leur avis sur les candidats qui peut être à la fois positif ou négatif. Cela incite donc plus à voter car donne non seulement l'impression que l'avis de l'électeur est profondément pris en compte, mais aussi qu'il a un réel impact sur la décision de l'élection. \n",
    "\n",
    "Cependant, le jugement majoritaire peut entraîner des résultats incohérents voir louphoques. En effet, la manière de \"noter\" de chacun peut différer car peut être basée sur des critères très différents, c'est donc des votes assez subjectifs. "
   ]
  },
  {
   "cell_type": "markdown",
   "id": "f799790c",
   "metadata": {},
   "source": [
    "## 4. Recomptons les voix"
   ]
  },
  {
   "cell_type": "markdown",
   "id": "0ef7f816",
   "metadata": {},
   "source": [
    "### Question 21"
   ]
  },
  {
   "cell_type": "code",
   "execution_count": 32,
   "id": "3527977e",
   "metadata": {
    "vscode": {
     "languageId": "ocaml"
    }
   },
   "outputs": [
    {
     "data": {
      "text/plain": [
       "type bv_list = (string * int) list\n"
      ]
     },
     "execution_count": 32,
     "metadata": {},
     "output_type": "execute_result"
    },
    {
     "data": {
      "text/plain": [
       "type ville = string\n"
      ]
     },
     "execution_count": 32,
     "metadata": {},
     "output_type": "execute_result"
    },
    {
     "data": {
      "text/plain": [
       "type zone = Reg of string | Dpt of string\n"
      ]
     },
     "execution_count": 32,
     "metadata": {},
     "output_type": "execute_result"
    },
    {
     "data": {
      "text/plain": [
       "type arbre = Empty | N of zone * arbre list | Bv of ville * bv_list\n"
      ]
     },
     "execution_count": 32,
     "metadata": {},
     "output_type": "execute_result"
    }
   ],
   "source": [
    "type bv_list = (string * int) list;; (*type bureau de vote list qui modélise une liste tel que [(\"ROUSSEL\", 595)]*)\n",
    "type ville = string ;;\n",
    "type zone = Reg of string | Dpt of string ;;\n",
    "    \n",
    "type arbre =\n",
    "  | Empty\n",
    "  | N of zone * arbre list\n",
    "  | Bv of ville * bv_list;;\n",
    "\n"
   ]
  },
  {
   "cell_type": "code",
   "execution_count": 33,
   "id": "80cea034",
   "metadata": {
    "vscode": {
     "languageId": "ocaml"
    }
   },
   "outputs": [
    {
     "data": {
      "text/plain": [
       "val ara : arbre =\n",
       "  N (Reg \"Auvergne-Rhône-Alpes\",\n",
       "   [N (Dpt \"Drôme\",\n",
       "     [Bv (\"Valence\",\n",
       "       [(\"ARTHAUD\", 161); (\"ROUSSEL\", 595); (\"MACRON\", 7756);\n",
       "        (\"LASSALLE\", 590); (\"LE PEN\", 4679); (\"ZEMMOUR\", 2080);\n",
       "        (\"MÉLENCHON\", 8398); (\"HIDALGO\", 519); (\"JADOT\", 1701);\n",
       "        (\"PÉCRESSE\", 1423); (\"POUTOU\", 186); (\"DUPONT-AIGNAN\", 573)]);\n",
       "      Bv (\"Romans-sur-Isère\",\n",
       "       [(\"ARTHAUD\", 181); (\"ROUSSEL\", 371); (\"MACRON\", 4030);\n",
       "        (\"LASSALLE\", 334); (\"LE PEN\", 3270); (\"ZEMMOUR\", 1072);\n",
       "        (\"MÉLENCHON\", 4108); (\"HIDALGO\", 251); (\"JADOT\", 850);\n",
       "        (\"PÉCRESSE\", 631); (\"POUTOU\", 111); (\"DUPONT-AIGNAN\", 341)])]);\n",
       "    N (Dpt \"Isère\",\n",
       "     [Bv (\"Meylan\",\n",
       "       [(\"ARTHAUD\", 28); (\"ROUSSEL\", 169); (\"MACRON\", 4457);\n",
       "        (\"LASSALLE\", 164); (\"LE PEN\", 1288); (\"ZEMMOUR\", 928);\n",
       "        (\"MÉLENCHON\", 2198); (\"HIDALGO\", 251); (\"JADOT\", 906);\n",
       "        (\"PÉCRESSE\", 763); (\"POUTOU\", 64); (\"DUPONT-AIGNAN\", 162)]);\n",
       "      Bv (\"Echirolles\",\n",
       "       [(\"ARTHAUD\", 104); (\"ROUSSEL\", 506); (\"MACRON\", 3276);\n",
       "        (\"LASSALLE\", 259); (\"LE PEN\", 2737); (\"ZEMMOUR\", 779);\n",
       "        (\"MÉLENCHON\", 5121); (\"HIDALGO\", 223); (\"JADOT\", 590);\n",
       "        (\"PÉCRESSE\", 360); (\"POUTOU\", 92); (\"DUPONT-AIGNAN\", 202)]);\n",
       "      Bv (\"Fontaine\",\n",
       "       [(\"ARTHAUD\", 55); (\"ROUSSEL\", 363); (\"MACRON\", 2111);\n",
       "        (\"LASSALLE\", 146); (\"LE PEN\", 1835); (\"ZEMMOUR\", 541);\n",
       "        (\"MÉLENCHON\", 3113); (\"HIDALGO\", 185); (\"JADOT\", 493);\n",
       "        (\"PÉCRESSE\", 212); (\"POUTOU\", 83); (\"DUPONT-AIGNAN\", 121)]);\n",
       "      Bv (\"Saint-Martin-d'Hères\",\n",
       "       [(\"ARTHAUD\", 58); (\"ROUSSEL\", 436); (\"MACRON\", 2769);\n",
       "        (\"LASSALLE\", 207); (\"LE PEN\", 2289); (\"ZEMMOUR\", 661);\n",
       "        (\"MÉLENCHON\", 4763); (\"HIDALGO\", 242); (\"JADOT\", 777);\n",
       "        (\"PÉCRESSE\", 300); (\"POUTOU\", 119); (\"DUPONT-AIGNAN\", 161)]);\n",
       "      Bv (\"Gières\",\n",
       "       [(\"ARTHAUD\", 16); (\"ROUSSEL\", 66); (\"MACRON\", 1071); (\"LASSALLE\", 84);\n",
       "        (\"LE PEN\", 641); (\"ZEMMOUR\", 205); (\"MÉLENCHON\", 844);\n",
       "        (\"HIDALGO\", 96); (\"JADOT\", 301);\n",
       "        (\"PÉCRESS\"... (* string length 9; truncated *), 155);\n",
       "        (\"POUTO\"... (* string length 6; truncated *), 30);\n",
       "        (\"DU\"... (* string length 13; truncated *), 61)]);\n",
       "      Bv (...); ...]);\n",
       "    ...])\n"
      ]
     },
     "execution_count": 33,
     "metadata": {},
     "output_type": "execute_result"
    },
    {
     "data": {
      "text/plain": [
       "val panel_2022 : string list =\n",
       "  [\"ARTHAUD\"; \"ROUSSEL\"; \"MACRON\"; \"LASSALLE\"; \"LE PEN\"; \"ZEMMOUR\";\n",
       "   \"MÉLENCHON\"; \"HIDALGO\"; \"JADOT\"; \"PÉCRESSE\"; \"POUTOU\"; \"DUPONT-AIGNAN\"]\n"
      ]
     },
     "execution_count": 33,
     "metadata": {},
     "output_type": "execute_result"
    }
   ],
   "source": [
    "let ara =\n",
    "N (Reg \"Auvergne-Rhône-Alpes\",\n",
    " [N (Dpt \"Drôme\",\n",
    "   [Bv (\"Valence\",\n",
    "     [(\"ARTHAUD\", 161); (\"ROUSSEL\", 595); (\"MACRON\", 7756); (\"LASSALLE\", 590);\n",
    "      (\"LE PEN\", 4679); (\"ZEMMOUR\", 2080); (\"MÉLENCHON\", 8398);\n",
    "      (\"HIDALGO\", 519); (\"JADOT\", 1701); (\"PÉCRESSE\", 1423); (\"POUTOU\", 186);\n",
    "      (\"DUPONT-AIGNAN\", 573)]);\n",
    "    Bv (\"Romans-sur-Isère\",\n",
    "     [(\"ARTHAUD\", 181); (\"ROUSSEL\", 371); (\"MACRON\", 4030); (\"LASSALLE\", 334);\n",
    "      (\"LE PEN\", 3270); (\"ZEMMOUR\", 1072); (\"MÉLENCHON\", 4108);\n",
    "      (\"HIDALGO\", 251); (\"JADOT\", 850); (\"PÉCRESSE\", 631); (\"POUTOU\", 111);\n",
    "      (\"DUPONT-AIGNAN\", 341)])]);\n",
    "  N (Dpt \"Isère\",\n",
    "   [Bv (\"Meylan\",\n",
    "     [(\"ARTHAUD\", 28); (\"ROUSSEL\", 169); (\"MACRON\", 4457); (\"LASSALLE\", 164);\n",
    "      (\"LE PEN\", 1288); (\"ZEMMOUR\", 928); (\"MÉLENCHON\", 2198);\n",
    "      (\"HIDALGO\", 251); (\"JADOT\", 906); (\"PÉCRESSE\", 763); (\"POUTOU\", 64);\n",
    "      (\"DUPONT-AIGNAN\", 162)]);\n",
    "    Bv (\"Echirolles\",\n",
    "     [(\"ARTHAUD\", 104); (\"ROUSSEL\", 506); (\"MACRON\", 3276); (\"LASSALLE\", 259);\n",
    "      (\"LE PEN\", 2737); (\"ZEMMOUR\", 779); (\"MÉLENCHON\", 5121);\n",
    "      (\"HIDALGO\", 223); (\"JADOT\", 590); (\"PÉCRESSE\", 360); (\"POUTOU\", 92);\n",
    "      (\"DUPONT-AIGNAN\", 202)]);\n",
    "    Bv (\"Fontaine\",\n",
    "     [(\"ARTHAUD\", 55); (\"ROUSSEL\", 363); (\"MACRON\", 2111); (\"LASSALLE\", 146);\n",
    "      (\"LE PEN\", 1835); (\"ZEMMOUR\", 541); (\"MÉLENCHON\", 3113);\n",
    "      (\"HIDALGO\", 185); (\"JADOT\", 493); (\"PÉCRESSE\", 212); (\"POUTOU\", 83);\n",
    "      (\"DUPONT-AIGNAN\", 121)]);\n",
    "    Bv (\"Saint-Martin-d'Hères\",\n",
    "     [(\"ARTHAUD\", 58); (\"ROUSSEL\", 436); (\"MACRON\", 2769); (\"LASSALLE\", 207);\n",
    "      (\"LE PEN\", 2289); (\"ZEMMOUR\", 661); (\"MÉLENCHON\", 4763);\n",
    "      (\"HIDALGO\", 242); (\"JADOT\", 777); (\"PÉCRESSE\", 300); (\"POUTOU\", 119);\n",
    "      (\"DUPONT-AIGNAN\", 161)]);\n",
    "    Bv (\"Gières\",\n",
    "     [(\"ARTHAUD\", 16); (\"ROUSSEL\", 66); (\"MACRON\", 1071); (\"LASSALLE\", 84);\n",
    "      (\"LE PEN\", 641); (\"ZEMMOUR\", 205); (\"MÉLENCHON\", 844); (\"HIDALGO\", 96);\n",
    "      (\"JADOT\", 301); (\"PÉCRESSE\", 155); (\"POUTOU\", 30);\n",
    "      (\"DUPONT-AIGNAN\", 61)]);\n",
    "    Bv (\"Grenoble\",\n",
    "     [(\"ARTHAUD\", 256); (\"ROUSSEL\", 1300); (\"MACRON\", 15968);\n",
    "      (\"LASSALLE\", 845); (\"LE PEN\", 6444); (\"ZEMMOUR\", 3389);\n",
    "      (\"MÉLENCHON\", 24568); (\"HIDALGO\", 1488); (\"JADOT\", 5644);\n",
    "      (\"PÉCRESSE\", 2019); (\"POUTOU\", 508); (\"DUPONT-AIGNAN\", 661)])])]);;\n",
    "    \n",
    "let panel_2022 = [\"ARTHAUD\";\"ROUSSEL\";\"MACRON\";\"LASSALLE\";\"LE PEN\";\"ZEMMOUR\";\"MÉLENCHON\";\"HIDALGO\";\"JADOT\";\"PÉCRESSE\";\"POUTOU\";\"DUPONT-AIGNAN\"];;\n"
   ]
  },
  {
   "cell_type": "markdown",
   "id": "05a3d649",
   "metadata": {},
   "source": [
    "### Question 22"
   ]
  },
  {
   "cell_type": "code",
   "execution_count": 34,
   "id": "7b80730d",
   "metadata": {
    "vscode": {
     "languageId": "ocaml"
    }
   },
   "outputs": [
    {
     "data": {
      "text/plain": [
       "val trouve_bv : arbre -> ville -> bv_list = <fun>\n"
      ]
     },
     "execution_count": 34,
     "metadata": {},
     "output_type": "execute_result"
    }
   ],
   "source": [
    "let rec trouve_bv (arbre: arbre) (ville: ville) : bv_list =\n",
    "  match arbre with\n",
    "  | Empty -> []\n",
    "  | Bv (nom, candidats) -> if nom = ville then candidats else []\n",
    "  | N (_, sous_arbres) ->\n",
    "      let rec trouver_ville arbres =\n",
    "        match arbres with\n",
    "        | [] -> []\n",
    "        | arb :: rem ->\n",
    "            let candidats_v = trouve_bv arb ville in\n",
    "            if candidats_v <> [] then candidats_v else trouver_ville rem\n",
    "      in\n",
    "      trouver_ville sous_arbres ;;\n"
   ]
  },
  {
   "cell_type": "code",
   "execution_count": 35,
   "id": "a9081696",
   "metadata": {
    "vscode": {
     "languageId": "ocaml"
    }
   },
   "outputs": [
    {
     "data": {
      "text/plain": [
       "- : bv_list =\n",
       "[(\"ARTHAUD\", 161); (\"ROUSSEL\", 595); (\"MACRON\", 7756); (\"LASSALLE\", 590);\n",
       " (\"LE PEN\", 4679); (\"ZEMMOUR\", 2080); (\"MÉLENCHON\", 8398); (\"HIDALGO\", 519);\n",
       " (\"JADOT\", 1701); (\"PÉCRESSE\", 1423); (\"POUTOU\", 186);\n",
       " (\"DUPONT-AIGNAN\", 573)]\n"
      ]
     },
     "execution_count": 35,
     "metadata": {},
     "output_type": "execute_result"
    },
    {
     "data": {
      "text/plain": [
       "- : bv_list =\n",
       "[(\"ARTHAUD\", 256); (\"ROUSSEL\", 1300); (\"MACRON\", 15968); (\"LASSALLE\", 845);\n",
       " (\"LE PEN\", 6444); (\"ZEMMOUR\", 3389); (\"MÉLENCHON\", 24568);\n",
       " (\"HIDALGO\", 1488); (\"JADOT\", 5644); (\"PÉCRESSE\", 2019); (\"POUTOU\", 508);\n",
       " (\"DUPONT-AIGNAN\", 661)]\n"
      ]
     },
     "execution_count": 35,
     "metadata": {},
     "output_type": "execute_result"
    },
    {
     "data": {
      "text/plain": [
       "- : bv_list =\n",
       "[(\"ARTHAUD\", 55); (\"ROUSSEL\", 363); (\"MACRON\", 2111); (\"LASSALLE\", 146);\n",
       " (\"LE PEN\", 1835); (\"ZEMMOUR\", 541); (\"MÉLENCHON\", 3113); (\"HIDALGO\", 185);\n",
       " (\"JADOT\", 493); (\"PÉCRESSE\", 212); (\"POUTOU\", 83); (\"DUPONT-AIGNAN\", 121)]\n"
      ]
     },
     "execution_count": 35,
     "metadata": {},
     "output_type": "execute_result"
    }
   ],
   "source": [
    "trouve_bv ara \"Valence\" ;;\n",
    "trouve_bv ara \"Grenoble\" ;;\n",
    "trouve_bv ara \"Fontaine\" ;;"
   ]
  },
  {
   "cell_type": "markdown",
   "id": "ac31d7d8",
   "metadata": {},
   "source": [
    "### Question 23"
   ]
  },
  {
   "cell_type": "code",
   "execution_count": 36,
   "id": "7835446f",
   "metadata": {
    "vscode": {
     "languageId": "ocaml"
    }
   },
   "outputs": [
    {
     "data": {
      "text/plain": [
       "- : candidat * score = (\"MÉLENCHON\", 36079)\n"
      ]
     },
     "execution_count": 36,
     "metadata": {},
     "output_type": "execute_result"
    }
   ],
   "source": [
    "let resultat = union (trouve_bv ara \"Valence\") (trouve_bv ara \"Fontaine\") in\n",
    "    let res = union resultat (trouve_bv ara \"Grenoble\") in\n",
    "        max_depouille res ;;"
   ]
  },
  {
   "cell_type": "markdown",
   "id": "252b402d",
   "metadata": {},
   "source": [
    "## 5. Conclusion"
   ]
  },
  {
   "attachments": {},
   "cell_type": "markdown",
   "id": "c7b24097",
   "metadata": {},
   "source": [
    "En conclusion, les méthodes de scrutin uninominal et du jugement majoritaire admettent tous deux des défauts."
   ]
  },
  {
   "attachments": {},
   "cell_type": "markdown",
   "id": "fa0289be",
   "metadata": {},
   "source": [
    "D'un côté, le scrutin uninominal créée une division au sein des partis, induisant un résultat d'élection qui ne satisfait pas forcément la majorité de la population, en parti à cause du \"vote utile\"."
   ]
  },
  {
   "attachments": {},
   "cell_type": "markdown",
   "id": "0cff5028",
   "metadata": {},
   "source": [
    "D'un autre côté, certe le jugement majoritaire résout le problème du \"vote utile\", mais il accompagne avec lui une certaine subjectivité au vote qui peut avoir des effets néfastes envers une élection en créant des résulats incohérents."
   ]
  }
 ],
 "metadata": {
  "kernelspec": {
   "display_name": "OCaml default",
   "language": "OCaml",
   "name": "ocaml-jupyter"
  },
  "language_info": {
   "codemirror_mode": "text/x-ocaml",
   "file_extension": ".ml",
   "mimetype": "text/x-ocaml",
   "name": "OCaml",
   "nbconverter_exporter": null,
   "pygments_lexer": "OCaml",
   "version": "4.13.1"
  }
 },
 "nbformat": 4,
 "nbformat_minor": 5
}
